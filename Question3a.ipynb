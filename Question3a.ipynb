{
  "nbformat": 4,
  "nbformat_minor": 0,
  "metadata": {
    "colab": {
      "name": "Question3a.ipynb",
      "provenance": [],
      "collapsed_sections": [],
      "authorship_tag": "ABX9TyPmw1uuDXNkly69JoCVtDNP",
      "include_colab_link": true
    },
    "kernelspec": {
      "name": "python3",
      "display_name": "Python 3"
    }
  },
  "cells": [
    {
      "cell_type": "markdown",
      "metadata": {
        "id": "view-in-github",
        "colab_type": "text"
      },
      "source": [
        "<a href=\"https://colab.research.google.com/github/snehasrav25/WhatsbusyInternChallange/blob/master/Question3a.ipynb\" target=\"_parent\"><img src=\"https://colab.research.google.com/assets/colab-badge.svg\" alt=\"Open In Colab\"/></a>"
      ]
    },
    {
      "cell_type": "code",
      "metadata": {
        "id": "iwpFZdXdGjKu",
        "colab_type": "code",
        "colab": {
          "base_uri": "https://localhost:8080/",
          "height": 35
        },
        "outputId": "a99efb8b-81d3-4b98-ff03-9b008f0189d3"
      },
      "source": [
        "# Online Python compiler (interpreter) to run Python online.\n",
        "# Write Python 3 code in this online editor and run it.\n",
        "import numpy as np\n",
        "import statistics\n",
        "from statistics import mean \n",
        "df={'days':[1,1,2,2,1,3,4],'values':[10,10,5,3,-2,4,20]}\n",
        "days=df.get('days')\n",
        "values=df.get('values')\n",
        "\n",
        "modifiedarrays={}\n",
        "days=np.array(days)\n",
        "values=np.array(values)\n",
        "\n",
        "for i in range (len(days)):\n",
        "    if days[i] in modifiedarrays.keys():\n",
        "        modifiedarrays[days[i]].append(values[i])\n",
        "    else:\n",
        "        modifiedarrays[days[i]]=[values[i]]\n",
        "\n",
        "#print(modifiedarrays)\n",
        "newdict={}\n",
        "daysaslist=[]\n",
        "avglist =[]\n",
        "mediancomputed=[]\n",
        "listmax=[]\n",
        "listmin=[]\n",
        "for k in modifiedarrays.keys():\n",
        "  daysaslist.append(k)\n",
        "  m=mean(modifiedarrays.get(k))\n",
        "  avglist.append(m)\n",
        "  mediancomputed.append(statistics.median(modifiedarrays.get(k)))\n",
        "  listmax.append(max(modifiedarrays.get(k)))\n",
        "  listmin.append(min(modifiedarrays.get(k)))\n",
        "\n",
        "newdict['days']=daysaslist    \n",
        "newdict['mean_values']=avglist\n",
        "newdict['median_values']=mediancomputed\n",
        "newdict['max_values']=listmax\n",
        "newdict['min_values']=listmin\n",
        "\n",
        "print(newdict)\n",
        "\n",
        "\n",
        "\n"
      ],
      "execution_count": 20,
      "outputs": [
        {
          "output_type": "stream",
          "text": [
            "{'days': [1, 2, 3, 4], 'mean_values': [6, 4, 4, 20], 'median_values': [10, 4.0, 4, 20], 'max_values': [10, 5, 4, 20], 'min_values': [-2, 3, 4, 20]}\n"
          ],
          "name": "stdout"
        }
      ]
    }
  ]
}